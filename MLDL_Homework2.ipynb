{
  "nbformat": 4,
  "nbformat_minor": 0,
  "metadata": {
    "colab": {
      "name": "MLDL-Homework2_V2.ipynb",
      "provenance": [],
      "collapsed_sections": [],
      "toc_visible": true,
      "include_colab_link": true
    },
    "kernelspec": {
      "name": "python3",
      "display_name": "Python 3"
    },
    "accelerator": "GPU",
    "widgets": {
      "application/vnd.jupyter.widget-state+json": {
        "e6d4ddb748e54b4c9b5a6c03269074bc": {
          "model_module": "@jupyter-widgets/controls",
          "model_name": "HBoxModel",
          "state": {
            "_view_name": "HBoxView",
            "_dom_classes": [],
            "_model_name": "HBoxModel",
            "_view_module": "@jupyter-widgets/controls",
            "_model_module_version": "1.5.0",
            "_view_count": null,
            "_view_module_version": "1.5.0",
            "box_style": "",
            "layout": "IPY_MODEL_888dc2ec1c6a4aa686450600f749ebc9",
            "_model_module": "@jupyter-widgets/controls",
            "children": [
              "IPY_MODEL_e6efb5061fce406ab1e9fc1f2ba63a67",
              "IPY_MODEL_aacc1a3889604abcb1f5cc4b0f1d50b2"
            ]
          }
        },
        "888dc2ec1c6a4aa686450600f749ebc9": {
          "model_module": "@jupyter-widgets/base",
          "model_name": "LayoutModel",
          "state": {
            "_view_name": "LayoutView",
            "grid_template_rows": null,
            "right": null,
            "justify_content": null,
            "_view_module": "@jupyter-widgets/base",
            "overflow": null,
            "_model_module_version": "1.2.0",
            "_view_count": null,
            "flex_flow": null,
            "width": null,
            "min_width": null,
            "border": null,
            "align_items": null,
            "bottom": null,
            "_model_module": "@jupyter-widgets/base",
            "top": null,
            "grid_column": null,
            "overflow_y": null,
            "overflow_x": null,
            "grid_auto_flow": null,
            "grid_area": null,
            "grid_template_columns": null,
            "flex": null,
            "_model_name": "LayoutModel",
            "justify_items": null,
            "grid_row": null,
            "max_height": null,
            "align_content": null,
            "visibility": null,
            "align_self": null,
            "height": null,
            "min_height": null,
            "padding": null,
            "grid_auto_rows": null,
            "grid_gap": null,
            "max_width": null,
            "order": null,
            "_view_module_version": "1.2.0",
            "grid_template_areas": null,
            "object_position": null,
            "object_fit": null,
            "grid_auto_columns": null,
            "margin": null,
            "display": null,
            "left": null
          }
        },
        "e6efb5061fce406ab1e9fc1f2ba63a67": {
          "model_module": "@jupyter-widgets/controls",
          "model_name": "FloatProgressModel",
          "state": {
            "_view_name": "ProgressView",
            "style": "IPY_MODEL_e822ab5f27c144dfa822d5aceab037a4",
            "_dom_classes": [],
            "description": "100%",
            "_model_name": "FloatProgressModel",
            "bar_style": "success",
            "max": 244418560,
            "_view_module": "@jupyter-widgets/controls",
            "_model_module_version": "1.5.0",
            "value": 244418560,
            "_view_count": null,
            "_view_module_version": "1.5.0",
            "orientation": "horizontal",
            "min": 0,
            "description_tooltip": null,
            "_model_module": "@jupyter-widgets/controls",
            "layout": "IPY_MODEL_b5083802fe8d46b1b673f794fcfefa6d"
          }
        },
        "aacc1a3889604abcb1f5cc4b0f1d50b2": {
          "model_module": "@jupyter-widgets/controls",
          "model_name": "HTMLModel",
          "state": {
            "_view_name": "HTMLView",
            "style": "IPY_MODEL_c9539d4276f24dc2ba6982b59a357d86",
            "_dom_classes": [],
            "description": "",
            "_model_name": "HTMLModel",
            "placeholder": "​",
            "_view_module": "@jupyter-widgets/controls",
            "_model_module_version": "1.5.0",
            "value": " 233M/233M [00:02&lt;00:00, 108MB/s]",
            "_view_count": null,
            "_view_module_version": "1.5.0",
            "description_tooltip": null,
            "_model_module": "@jupyter-widgets/controls",
            "layout": "IPY_MODEL_bf63de65d9b2406da8b2a183522070cd"
          }
        },
        "e822ab5f27c144dfa822d5aceab037a4": {
          "model_module": "@jupyter-widgets/controls",
          "model_name": "ProgressStyleModel",
          "state": {
            "_view_name": "StyleView",
            "_model_name": "ProgressStyleModel",
            "description_width": "initial",
            "_view_module": "@jupyter-widgets/base",
            "_model_module_version": "1.5.0",
            "_view_count": null,
            "_view_module_version": "1.2.0",
            "bar_color": null,
            "_model_module": "@jupyter-widgets/controls"
          }
        },
        "b5083802fe8d46b1b673f794fcfefa6d": {
          "model_module": "@jupyter-widgets/base",
          "model_name": "LayoutModel",
          "state": {
            "_view_name": "LayoutView",
            "grid_template_rows": null,
            "right": null,
            "justify_content": null,
            "_view_module": "@jupyter-widgets/base",
            "overflow": null,
            "_model_module_version": "1.2.0",
            "_view_count": null,
            "flex_flow": null,
            "width": null,
            "min_width": null,
            "border": null,
            "align_items": null,
            "bottom": null,
            "_model_module": "@jupyter-widgets/base",
            "top": null,
            "grid_column": null,
            "overflow_y": null,
            "overflow_x": null,
            "grid_auto_flow": null,
            "grid_area": null,
            "grid_template_columns": null,
            "flex": null,
            "_model_name": "LayoutModel",
            "justify_items": null,
            "grid_row": null,
            "max_height": null,
            "align_content": null,
            "visibility": null,
            "align_self": null,
            "height": null,
            "min_height": null,
            "padding": null,
            "grid_auto_rows": null,
            "grid_gap": null,
            "max_width": null,
            "order": null,
            "_view_module_version": "1.2.0",
            "grid_template_areas": null,
            "object_position": null,
            "object_fit": null,
            "grid_auto_columns": null,
            "margin": null,
            "display": null,
            "left": null
          }
        },
        "c9539d4276f24dc2ba6982b59a357d86": {
          "model_module": "@jupyter-widgets/controls",
          "model_name": "DescriptionStyleModel",
          "state": {
            "_view_name": "StyleView",
            "_model_name": "DescriptionStyleModel",
            "description_width": "",
            "_view_module": "@jupyter-widgets/base",
            "_model_module_version": "1.5.0",
            "_view_count": null,
            "_view_module_version": "1.2.0",
            "_model_module": "@jupyter-widgets/controls"
          }
        },
        "bf63de65d9b2406da8b2a183522070cd": {
          "model_module": "@jupyter-widgets/base",
          "model_name": "LayoutModel",
          "state": {
            "_view_name": "LayoutView",
            "grid_template_rows": null,
            "right": null,
            "justify_content": null,
            "_view_module": "@jupyter-widgets/base",
            "overflow": null,
            "_model_module_version": "1.2.0",
            "_view_count": null,
            "flex_flow": null,
            "width": null,
            "min_width": null,
            "border": null,
            "align_items": null,
            "bottom": null,
            "_model_module": "@jupyter-widgets/base",
            "top": null,
            "grid_column": null,
            "overflow_y": null,
            "overflow_x": null,
            "grid_auto_flow": null,
            "grid_area": null,
            "grid_template_columns": null,
            "flex": null,
            "_model_name": "LayoutModel",
            "justify_items": null,
            "grid_row": null,
            "max_height": null,
            "align_content": null,
            "visibility": null,
            "align_self": null,
            "height": null,
            "min_height": null,
            "padding": null,
            "grid_auto_rows": null,
            "grid_gap": null,
            "max_width": null,
            "order": null,
            "_view_module_version": "1.2.0",
            "grid_template_areas": null,
            "object_position": null,
            "object_fit": null,
            "grid_auto_columns": null,
            "margin": null,
            "display": null,
            "left": null
          }
        }
      }
    }
  },
  "cells": [
    {
      "cell_type": "markdown",
      "metadata": {
        "id": "view-in-github",
        "colab_type": "text"
      },
      "source": [
        "<a href=\"https://colab.research.google.com/github/luciainnocenti/Homework2-Caltech101/blob/master/MLDL_Homework2.ipynb\" target=\"_parent\"><img src=\"https://colab.research.google.com/assets/colab-badge.svg\" alt=\"Open In Colab\"/></a>"
      ]
    },
    {
      "cell_type": "markdown",
      "metadata": {
        "id": "c9QcGnGPdX2C",
        "colab_type": "text"
      },
      "source": [
        "\n",
        "#**Install requirements**"
      ]
    },
    {
      "cell_type": "code",
      "metadata": {
        "id": "k9O3aM3Tb28q",
        "colab_type": "code",
        "colab": {}
      },
      "source": [
        "#!pip3 install 'torch==1.3.1'\n",
        "#!pip3 install 'torchvision==0.5.0'\n",
        "#!pip3 install 'Pillow-SIMD'\n",
        "#!pip3 install 'tqdm'"
      ],
      "execution_count": 0,
      "outputs": []
    },
    {
      "cell_type": "markdown",
      "metadata": {
        "id": "fo942LMOdlh4",
        "colab_type": "text"
      },
      "source": [
        "# **Import libraries**"
      ]
    },
    {
      "cell_type": "code",
      "metadata": {
        "id": "DokFOdD1dJEl",
        "colab_type": "code",
        "colab": {}
      },
      "source": [
        "import os\n",
        "import logging\n",
        "import sys\n",
        "\n",
        "import torch\n",
        "import torch.nn as nn\n",
        "import torch.optim as optim\n",
        "from torch.utils.data import Subset, DataLoader\n",
        "from torch.backends import cudnn\n",
        "\n",
        "import torchvision\n",
        "from torchvision import transforms\n",
        "from torchvision.models import alexnet\n",
        "\n",
        "from PIL import Image\n",
        "from tqdm import tqdm\n",
        "\n",
        "import numpy as np\n"
      ],
      "execution_count": 0,
      "outputs": []
    },
    {
      "cell_type": "markdown",
      "metadata": {
        "id": "OIDLJuIXK_vh",
        "colab_type": "text"
      },
      "source": [
        "# **Set Arguments**"
      ]
    },
    {
      "cell_type": "code",
      "metadata": {
        "id": "d5PkYfqfK_SA",
        "colab_type": "code",
        "colab": {}
      },
      "source": [
        "DEVICE = 'cuda' # 'cuda' or 'cpu'\n",
        "\n",
        "NUM_CLASSES = 102 # 101 + 1: There is am extra Background class that should be removed \n",
        "\n",
        "BATCH_SIZE = 256     # Higher batch sizes allows for larger learning rates. An empirical heuristic suggests that, when changing\n",
        "                     # the batch size, learning rate should change by the same factor to have comparable results\n",
        "\n",
        "LR = 1e-3            # The initial Learning Rate\n",
        "MOMENTUM = 0.9       # Hyperparameter for SGD, keep this at 0.9 when using SGD\n",
        "WEIGHT_DECAY = 5e-5  # Regularization, you can keep this at the default\n",
        "\n",
        "NUM_EPOCHS = 30      # Total number of training epochs (iterations over dataset)\n",
        "STEP_SIZE = 20       # How many epochs before decreasing learning rate (if using a step-down policy)\n",
        "GAMMA = 0.1          # Multiplicative factor for learning rate step-down\n",
        "\n",
        "LOG_FREQUENCY = 10"
      ],
      "execution_count": 0,
      "outputs": []
    },
    {
      "cell_type": "markdown",
      "metadata": {
        "id": "y_ZyFhstBpjB",
        "colab_type": "text"
      },
      "source": [
        "## Adjusted Hyperparameters"
      ]
    },
    {
      "cell_type": "code",
      "metadata": {
        "id": "lD-7yo7oBoTT",
        "colab_type": "code",
        "colab": {}
      },
      "source": [
        "LR = 0.01            # Good enought parameter with NUM_EPOCHS = 30"
      ],
      "execution_count": 0,
      "outputs": []
    },
    {
      "cell_type": "code",
      "metadata": {
        "id": "YjBCogHIX6wZ",
        "colab_type": "code",
        "colab": {}
      },
      "source": [
        "LR = 1e-3           \n",
        "\n",
        "NUM_EPOCHS = 100"
      ],
      "execution_count": 0,
      "outputs": []
    },
    {
      "cell_type": "code",
      "metadata": {
        "id": "VO794FDHNWkT",
        "colab_type": "code",
        "colab": {}
      },
      "source": [
        "LR = 0.01\n",
        "\n",
        "NUM_EPOCHS = 40"
      ],
      "execution_count": 0,
      "outputs": []
    },
    {
      "cell_type": "markdown",
      "metadata": {
        "id": "9gwii0TBHvzh",
        "colab_type": "text"
      },
      "source": [
        "# **Define Data Preprocessing**"
      ]
    },
    {
      "cell_type": "markdown",
      "metadata": {
        "id": "imm5Qq-zOhyE",
        "colab_type": "text"
      },
      "source": [
        "In the official documentation of pretrained models on torchvision there is the following piece of code:\n",
        "\n",
        "    for model_name in __all__: \n",
        "        means[model_name] = [0.485, 0.456, 0.406]\n",
        "        stds[model_name] = [0.229, 0.224, 0.225]\n",
        "\n",
        "So I set the *transorms.Normalize* mean and standard deviation as defined here"
      ]
    },
    {
      "cell_type": "code",
      "metadata": {
        "id": "QUDdw4j2H0Mc",
        "colab_type": "code",
        "colab": {}
      },
      "source": [
        "# Define transforms for training phase\n",
        "train_transform = transforms.Compose([transforms.Resize(256),      # Resizes short size of the PIL image to 256\n",
        "                                      transforms.CenterCrop(224),  # Crops a central square patch of the image\n",
        "                                                                   # 224 because torchvision's AlexNet needs a 224x224 input!\n",
        "                                                                   # Remember this when applying different transformations, otherwise you get an error\n",
        "                                      transforms.ToTensor(), # Turn PIL Image to torch.Tensor\n",
        "                                      #transforms.Normalize((0.5, 0.5, 0.5), (0.5, 0.5, 0.5)) # Normalizes tensor with mean and standard deviation\n",
        "                                      transforms.Normalize((0.485, 0.456, 0.406), (0.229, 0.224, 0.225)) #ImageNet Mean and SD\n",
        "])\n",
        "# Define transforms for the evaluation phase\n",
        "eval_transform = transforms.Compose([transforms.Resize(256),\n",
        "                                      transforms.CenterCrop(224),\n",
        "                                      transforms.ToTensor(),\n",
        "                                      #transforms.Normalize((0.5, 0.5, 0.5), (0.5, 0.5, 0.5)) # Normalizes tensor with mean and standard deviation\n",
        "                                      transforms.Normalize((0.485, 0.456, 0.406), (0.229, 0.224, 0.225))  #ImageNet Mean and SD                                 \n",
        "])"
      ],
      "execution_count": 0,
      "outputs": []
    },
    {
      "cell_type": "markdown",
      "metadata": {
        "id": "BYxJTHoP87EI",
        "colab_type": "text"
      },
      "source": [
        "Data Augmentation:"
      ]
    },
    {
      "cell_type": "code",
      "metadata": {
        "id": "G2R1DMEvFq_E",
        "colab_type": "code",
        "colab": {}
      },
      "source": [
        "list_degrees = [10,30]"
      ],
      "execution_count": 0,
      "outputs": []
    },
    {
      "cell_type": "code",
      "metadata": {
        "id": "A_mYbYuUHwOi",
        "colab_type": "code",
        "colab": {}
      },
      "source": [
        "train_transform = transforms.Compose([#transforms.RandomResizedCrop(size=256, scale=(0.8, 1.0)),\n",
        "                                      transforms.RandomRotation(degrees=list_degrees),\n",
        "                                      transforms.ColorJitter(),\n",
        "                                      #transforms.RandomHorizontalFlip(),\n",
        "                                      transforms.CenterCrop(224),  # Image net standards\n",
        "                                      transforms.ToTensor(),\n",
        "                                      transforms.Normalize([0.485, 0.456, 0.406],\n",
        "                                                          [0.229, 0.224, 0.225])  # Imagenet standards\n",
        "                                  ])\n",
        "\n",
        "# Define transforms for the evaluation phase\n",
        "eval_transform = transforms.Compose([transforms.Resize(256),\n",
        "                                      transforms.CenterCrop(224),\n",
        "                                      transforms.ToTensor(),\n",
        "                                      #transforms.Normalize((0.5, 0.5, 0.5), (0.5, 0.5, 0.5)) # Normalizes tensor with mean and standard deviation\n",
        "                                      transforms.Normalize((0.485, 0.456, 0.406), (0.229, 0.224, 0.225))  #ImageNet Mean and SD                                 \n",
        "])"
      ],
      "execution_count": 0,
      "outputs": []
    },
    {
      "cell_type": "markdown",
      "metadata": {
        "id": "2qYIHPzYLY7i",
        "colab_type": "text"
      },
      "source": [
        "# **Prepare Dataset**"
      ]
    },
    {
      "cell_type": "code",
      "metadata": {
        "id": "QfVq_uDHLbsR",
        "colab_type": "code",
        "outputId": "a4514db6-0e17-4819-a628-3c353a7b2ba4",
        "colab": {
          "base_uri": "https://localhost:8080/",
          "height": 176
        }
      },
      "source": [
        "# Clone github repository with data\n",
        "if not os.path.isdir('./Caltech101'):\n",
        "  !git clone https://github.com/luciainnocenti/Homework2-Caltech101.git\n",
        "  !mv 'Homework2-Caltech101' 'Caltech101'\n",
        "\n",
        "DATA_DIR = 'Caltech101'\n",
        "from Caltech101.caltech_dataset import Caltech\n",
        "\n",
        "# Prepare Pytorch train/test Datasets\n",
        "train_dataset = Caltech(DATA_DIR, split='train',  transform=train_transform)\n",
        "test_dataset = Caltech(DATA_DIR, split='test', transform=eval_transform)\n",
        "\n",
        "train_indexes , val_indexes = train_dataset.__getSubsets__(50)\n",
        "\n",
        "val_dataset = Subset(train_dataset, val_indexes)\n",
        "train_dataset = Subset(train_dataset, train_indexes)\n",
        "\n",
        "\n",
        "# Check dataset sizes\n",
        "print('Train Dataset: {}'.format(len(train_dataset)))\n",
        "print('Valid Dataset: {}'.format(len(val_dataset)))\n",
        "print('Test Dataset: {}'.format(len(test_dataset)))"
      ],
      "execution_count": 0,
      "outputs": [
        {
          "output_type": "stream",
          "text": [
            "Cloning into 'Homework2-Caltech101'...\n",
            "remote: Enumerating objects: 9301, done.\u001b[K\n",
            "remote: Total 9301 (delta 0), reused 0 (delta 0), pack-reused 9301\u001b[K\n",
            "Receiving objects: 100% (9301/9301), 129.49 MiB | 12.73 MiB/s, done.\n",
            "Resolving deltas: 100% (33/33), done.\n",
            "Checking out files: 100% (9149/9149), done.\n",
            "Train Dataset: 3045\n",
            "Valid Dataset: 3093\n",
            "Test Dataset: 2893\n"
          ],
          "name": "stdout"
        }
      ]
    },
    {
      "cell_type": "markdown",
      "metadata": {
        "id": "FYEDQ7Z21ldN",
        "colab_type": "text"
      },
      "source": [
        "# **Prepare Dataloaders**"
      ]
    },
    {
      "cell_type": "code",
      "metadata": {
        "id": "VriRw8SI1nle",
        "colab_type": "code",
        "colab": {}
      },
      "source": [
        "# Dataloaders iterate over pytorch datasets and transparently provide useful functions (e.g. parallelization and shuffling)\n",
        "train_dataloader = DataLoader(train_dataset, batch_size=BATCH_SIZE, shuffle=True, num_workers=4, drop_last=True)\n",
        "val_dataloader = DataLoader(val_dataset, batch_size=BATCH_SIZE, shuffle=False, num_workers=4)\n",
        "test_dataloader = DataLoader(test_dataset, batch_size=BATCH_SIZE, shuffle=False, num_workers=4)"
      ],
      "execution_count": 0,
      "outputs": []
    },
    {
      "cell_type": "markdown",
      "metadata": {
        "id": "gbZ1t5Qs2z4j",
        "colab_type": "text"
      },
      "source": [
        "# **Prepare Network**"
      ]
    },
    {
      "cell_type": "markdown",
      "metadata": {
        "id": "LS7XQeX2e004",
        "colab_type": "text"
      },
      "source": [
        "## Non pretrained Network"
      ]
    },
    {
      "cell_type": "code",
      "metadata": {
        "id": "pZCOyKxXew8O",
        "colab_type": "code",
        "colab": {}
      },
      "source": [
        "net = alexnet() # Loading AlexNet model\n",
        "\n",
        "net.classifier[6] = nn.Linear(4096, NUM_CLASSES) # nn.Linear in pytorch is a fully connected layer\n",
        "                                                 # The convolutional layer is nn.Conv2d\n"
      ],
      "execution_count": 0,
      "outputs": []
    },
    {
      "cell_type": "markdown",
      "metadata": {
        "id": "FNn-Rjk0NCrB",
        "colab_type": "text"
      },
      "source": [
        "## Pretrained Network"
      ]
    },
    {
      "cell_type": "markdown",
      "metadata": {
        "id": "Wji-dK6VDvF6",
        "colab_type": "text"
      },
      "source": [
        "To improve performance, use a pretrained Model.\n",
        "Let's see how AlexNet is defined:"
      ]
    },
    {
      "cell_type": "code",
      "metadata": {
        "id": "z2Pl49VRC1WT",
        "colab_type": "code",
        "outputId": "5ad81cee-6e76-466b-be3b-79b70a7f7eab",
        "colab": {
          "base_uri": "https://localhost:8080/",
          "height": 564,
          "referenced_widgets": [
            "e6d4ddb748e54b4c9b5a6c03269074bc",
            "888dc2ec1c6a4aa686450600f749ebc9",
            "e6efb5061fce406ab1e9fc1f2ba63a67",
            "aacc1a3889604abcb1f5cc4b0f1d50b2",
            "e822ab5f27c144dfa822d5aceab037a4",
            "b5083802fe8d46b1b673f794fcfefa6d",
            "c9539d4276f24dc2ba6982b59a357d86",
            "bf63de65d9b2406da8b2a183522070cd"
          ]
        }
      },
      "source": [
        "from torchvision import models\n",
        "alexNet = models.alexnet(pretrained=True)\n",
        "alexNet"
      ],
      "execution_count": 0,
      "outputs": [
        {
          "output_type": "stream",
          "text": [
            "Downloading: \"https://download.pytorch.org/models/alexnet-owt-4df8aa71.pth\" to /root/.cache/torch/checkpoints/alexnet-owt-4df8aa71.pth\n"
          ],
          "name": "stderr"
        },
        {
          "output_type": "display_data",
          "data": {
            "application/vnd.jupyter.widget-view+json": {
              "model_id": "e6d4ddb748e54b4c9b5a6c03269074bc",
              "version_minor": 0,
              "version_major": 2
            },
            "text/plain": [
              "HBox(children=(FloatProgress(value=0.0, max=244418560.0), HTML(value='')))"
            ]
          },
          "metadata": {
            "tags": []
          }
        },
        {
          "output_type": "stream",
          "text": [
            "\n"
          ],
          "name": "stdout"
        },
        {
          "output_type": "execute_result",
          "data": {
            "text/plain": [
              "AlexNet(\n",
              "  (features): Sequential(\n",
              "    (0): Conv2d(3, 64, kernel_size=(11, 11), stride=(4, 4), padding=(2, 2))\n",
              "    (1): ReLU(inplace=True)\n",
              "    (2): MaxPool2d(kernel_size=3, stride=2, padding=0, dilation=1, ceil_mode=False)\n",
              "    (3): Conv2d(64, 192, kernel_size=(5, 5), stride=(1, 1), padding=(2, 2))\n",
              "    (4): ReLU(inplace=True)\n",
              "    (5): MaxPool2d(kernel_size=3, stride=2, padding=0, dilation=1, ceil_mode=False)\n",
              "    (6): Conv2d(192, 384, kernel_size=(3, 3), stride=(1, 1), padding=(1, 1))\n",
              "    (7): ReLU(inplace=True)\n",
              "    (8): Conv2d(384, 256, kernel_size=(3, 3), stride=(1, 1), padding=(1, 1))\n",
              "    (9): ReLU(inplace=True)\n",
              "    (10): Conv2d(256, 256, kernel_size=(3, 3), stride=(1, 1), padding=(1, 1))\n",
              "    (11): ReLU(inplace=True)\n",
              "    (12): MaxPool2d(kernel_size=3, stride=2, padding=0, dilation=1, ceil_mode=False)\n",
              "  )\n",
              "  (avgpool): AdaptiveAvgPool2d(output_size=(6, 6))\n",
              "  (classifier): Sequential(\n",
              "    (0): Dropout(p=0.5, inplace=False)\n",
              "    (1): Linear(in_features=9216, out_features=4096, bias=True)\n",
              "    (2): ReLU(inplace=True)\n",
              "    (3): Dropout(p=0.5, inplace=False)\n",
              "    (4): Linear(in_features=4096, out_features=4096, bias=True)\n",
              "    (5): ReLU(inplace=True)\n",
              "    (6): Linear(in_features=4096, out_features=1000, bias=True)\n",
              "  )\n",
              ")"
            ]
          },
          "metadata": {
            "tags": []
          },
          "execution_count": 8
        }
      ]
    },
    {
      "cell_type": "markdown",
      "metadata": {
        "id": "liXMqNDj73M0",
        "colab_type": "text"
      },
      "source": [
        "### Train last Layer"
      ]
    },
    {
      "cell_type": "markdown",
      "metadata": {
        "id": "m99X7UynD3lC",
        "colab_type": "text"
      },
      "source": [
        "Now we use AlexNet and we modify only the last layer, that will be trained by the train section:"
      ]
    },
    {
      "cell_type": "code",
      "metadata": {
        "id": "yQhjcIrEM26x",
        "colab_type": "code",
        "colab": {}
      },
      "source": [
        "from torchvision import models\n",
        "alexNet = models.alexnet(pretrained=True)\n",
        "\n",
        "#Freeze all the parameters in alexNet\n",
        "for param in alexNet.parameters():\n",
        "    param.requires_grad = False\n",
        "\n",
        "#Modify the last layer. It will be trained\n",
        "alexNet.classifier[6] = nn.Linear(4096, NUM_CLASSES)\n",
        "\n",
        "# Move to gpu\n",
        "alexNet = alexNet.to('cuda')\n",
        "\n",
        "# Distribute across 2 gpus\n",
        "alexNet = nn.DataParallel(alexNet)"
      ],
      "execution_count": 0,
      "outputs": []
    },
    {
      "cell_type": "markdown",
      "metadata": {
        "id": "fX_f22Mh78uP",
        "colab_type": "text"
      },
      "source": [
        "### Train FC layers"
      ]
    },
    {
      "cell_type": "markdown",
      "metadata": {
        "id": "PVdsbizOEDFt",
        "colab_type": "text"
      },
      "source": [
        "Use a pretrained AlexNet by un-freezing all the Fully Connetted Layers"
      ]
    },
    {
      "cell_type": "code",
      "metadata": {
        "id": "GeSwuwmmDD4Q",
        "colab_type": "code",
        "colab": {}
      },
      "source": [
        "from torchvision import models\n",
        "alexNet = models.alexnet(pretrained=True)\n",
        "\n",
        "#Freeze all the parameters in alexNet\n",
        "for param in alexNet.parameters():\n",
        "    param.requires_grad = False\n",
        "\n",
        "#Unfreeze all the FC layers:\n",
        "alexNet.classifier[4] = nn.Linear(4096, 4096)\n",
        "alexNet.classifier[5] = nn.ReLU(inplace=True)\n",
        "alexNet.classifier[6] = nn.Linear(4096, NUM_CLASSES)\n",
        "\n",
        "\n",
        "\n",
        "# Move to gpu\n",
        "alexNet = alexNet.to('cuda')\n",
        "\n",
        "# Distribute across 2 gpus\n",
        "alexNet = nn.DataParallel(alexNet)"
      ],
      "execution_count": 0,
      "outputs": []
    },
    {
      "cell_type": "markdown",
      "metadata": {
        "id": "xSwNhyTk8AuJ",
        "colab_type": "text"
      },
      "source": [
        "### Train not-FC layers"
      ]
    },
    {
      "cell_type": "markdown",
      "metadata": {
        "id": "JLH4tKrDEKMO",
        "colab_type": "text"
      },
      "source": [
        "Use a pretrained AlexNet by un-freezing all the non-Fully Connetted Layers"
      ]
    },
    {
      "cell_type": "code",
      "metadata": {
        "id": "YmKYkDmqCzNd",
        "colab_type": "code",
        "colab": {}
      },
      "source": [
        "from torchvision import models\n",
        "alexNet = models.alexnet(pretrained=True)\n",
        "\n",
        "#Freeze all the parameters in alexNet\n",
        "for param in alexNet.parameters():\n",
        "    param.requires_grad = False\n",
        "\n",
        "#Unfreeze all the nonFC layers:\n",
        "alexNet.classifier[0] = nn.Dropout(p=0.5, inplace=False)\n",
        "alexNet.classifier[1] = nn.Linear(9216, 4096)\n",
        "alexNet.classifier[2] = nn.ReLU(inplace=True)\n",
        "alexNet.classifier[3] = nn.Dropout(p=0.5, inplace=False)\n",
        "\n",
        "alexNet.classifier[6] = nn.Linear(4096, NUM_CLASSES)\n",
        "\n",
        "# Move to gpu\n",
        "alexNet = alexNet.to('cuda')\n",
        "\n",
        "# Distribute across 2 gpus\n",
        "alexNet = nn.DataParallel(alexNet)"
      ],
      "execution_count": 0,
      "outputs": []
    },
    {
      "cell_type": "markdown",
      "metadata": {
        "id": "KEyL3H_R4qCf",
        "colab_type": "text"
      },
      "source": [
        "# **Prepare Training**"
      ]
    },
    {
      "cell_type": "code",
      "metadata": {
        "id": "g6rZ7CAyA5Jx",
        "colab_type": "code",
        "colab": {}
      },
      "source": [
        "#Define Loss function and optimizator\n",
        "criterion = nn.CrossEntropyLoss()\n",
        "\n",
        "optimizer = optim.SGD(alexNet.parameters(), lr=LR, momentum=MOMENTUM, weight_decay=WEIGHT_DECAY)\n",
        "#optimizer = optim.SGD(alexNet.parameters(), lr=LR, momentum=MOMENTUM)#Optimizer to use in case of early Stop\n",
        "\n",
        "scheduler = optim.lr_scheduler.StepLR(optimizer, step_size=STEP_SIZE, gamma=GAMMA)"
      ],
      "execution_count": 0,
      "outputs": []
    },
    {
      "cell_type": "markdown",
      "metadata": {
        "id": "qZM1rayb8IHV",
        "colab_type": "text"
      },
      "source": [
        "If the early Stop is selected, run the following part:"
      ]
    },
    {
      "cell_type": "code",
      "metadata": {
        "id": "LX0iyScYRTeI",
        "colab_type": "code",
        "colab": {}
      },
      "source": [
        "MAX_EPOCHS = 3\n",
        "epochs_no_improve = 0\n",
        "val_min_loss = sys.maxsize"
      ],
      "execution_count": 0,
      "outputs": []
    },
    {
      "cell_type": "markdown",
      "metadata": {
        "id": "AxYUli9d9uYQ",
        "colab_type": "text"
      },
      "source": [
        "# **Train**"
      ]
    },
    {
      "cell_type": "markdown",
      "metadata": {
        "id": "FAMTOmdMa_U1",
        "colab_type": "text"
      },
      "source": [
        "*Early stopping halts the training when the validation loss has not decreased for a number of epochs. Each time the validation loss does decrease, the model weights are saved so we can later load in the best model. Early stopping is an effective method to prevent overfitting on the training data. If we continue training, the training loss will continue to decrease, but the validation loss will increase because the model is starting to memorize the training data. Early stopping prevents this from happening, and, if we save the model each epoch when the validation loss decreases, we are able to retrieve the model that does best on the validation data.*"
      ]
    },
    {
      "cell_type": "code",
      "metadata": {
        "id": "CKWMSH8_LWey",
        "colab_type": "code",
        "colab": {}
      },
      "source": [
        "def testOnValidation(input_dataLoader):\n",
        "    alexNet.train(False) # Set Network to evaluation mode\n",
        "\n",
        "    running_corrects = 0\n",
        "    for images, labels in tqdm(input_dataLoader):\n",
        "      images = images.to(DEVICE)\n",
        "      labels = labels.to(DEVICE)\n",
        "\n",
        "      # Forward Pass\n",
        "      outputs = alexNet(images)\n",
        "\n",
        "      # Get predictions\n",
        "      _, preds = torch.max(outputs.data, 1)\n",
        "\n",
        "      # Update Corrects\n",
        "      running_corrects += torch.sum(preds == labels.data).data.item()\n",
        "\n",
        "    # Calculate Accuracy\n",
        "    accuracy = running_corrects / float(len(val_dataset))\n",
        "    loss = criterion(outputs, labels)\n",
        "\n",
        "    print('Validation Accuracy: {}'.format(accuracy))\n",
        "    print('Validation Loss: {}'.format(loss))\n",
        "    return (accuracy,loss)"
      ],
      "execution_count": 0,
      "outputs": []
    },
    {
      "cell_type": "code",
      "metadata": {
        "id": "ZcoQ5fD49yT_",
        "colab_type": "code",
        "outputId": "7e009958-ec58-4ec8-8e8d-ca7e0b2b4132",
        "colab": {
          "base_uri": "https://localhost:8080/",
          "height": 1000
        }
      },
      "source": [
        "# By default, everything is loaded to cpu\n",
        "alexNet = alexNet.to(DEVICE) # this will bring the network to GPU if DEVICE is cuda\n",
        "cudnn.benchmark # Calling this optimizes runtime\n",
        "\n",
        "pars = []\n",
        "max_accuracy = 0\n",
        "current_step = 0\n",
        "epochs_no_improve = 0\n",
        "\n",
        "# Start iterating over the epochs\n",
        "for epoch in range(NUM_EPOCHS):\n",
        "  #print('Starting epoch {}/{}, LR = {}'.format(epoch+1, NUM_EPOCHS))#, scheduler.get_lr()))\n",
        "  print('Starting epoch {}/{}'.format(epoch+1, NUM_EPOCHS))\n",
        "\n",
        "  alexNet.train() # Sets module in training mode\n",
        "\n",
        "  # Iterate over the dataset\n",
        "  for images, labels in train_dataloader:\n",
        "    # Bring data over the device of choice\n",
        "    images = images.to(DEVICE)\n",
        "    labels = labels.to(DEVICE)\n",
        "\n",
        "    \n",
        "    # PyTorch, by default, accumulates gradients after each backward pass\n",
        "    # We need to manually set the gradients to zero before starting a new iteration\n",
        "    optimizer.zero_grad() # Zero-ing the gradients\n",
        "\n",
        "    # Forward pass to the network\n",
        "    outputs = alexNet(images)\n",
        "\n",
        "    # Compute loss based on output and ground truth\n",
        "    loss = criterion(outputs, labels)\n",
        "\n",
        "    # Log loss\n",
        "    if current_step % LOG_FREQUENCY == 0:\n",
        "      print('Step {}, Loss {}'.format(current_step, loss.item()))\n",
        "\n",
        "    # Compute gradients for each layer and update weights\n",
        "    loss.backward()  # backward pass: computes gradients\n",
        "    optimizer.step() # update weights based on accumulated gradients\n",
        "\n",
        "    current_step += 1\n",
        "\n",
        "  #At each epoch, evaluate the model on the validation set:  \n",
        "  returned_elements = testOnValidation(val_dataloader)\n",
        "  pars.append( (scheduler.get_lr(), returned_elements[0], returned_elements[1].item(), loss) )\n",
        "  if( returned_elements[0] > max_accuracy):\n",
        "    max_accuracy = returned_elements[0]\n",
        "    best_model = alexNet\n",
        "  \n",
        "  ##Implements early stop:\n",
        "  #if( returned_elements[1] <= val_min_loss):\n",
        "  #  epochs_no_improve = 0\n",
        "  #  val_min_loss = returned_elements[1]\n",
        "  #else:\n",
        "  #  epochs_no_improve += 1\n",
        "  #  if(epochs_no_improve == 1):\n",
        "  #      best_model = alexNet\n",
        "  #  if(epochs_no_improve >= MAX_EPOCHS):\n",
        "  #    print(\"Early Stop! Number of epochs = \" , epoch)\n",
        "  #    \n",
        "  #    break\n",
        "\n",
        "  # Step the scheduler\n",
        "  scheduler.step() "
      ],
      "execution_count": 0,
      "outputs": [
        {
          "output_type": "stream",
          "text": [
            "Starting epoch 1/40\n",
            "Step 0, Loss 4.626338958740234\n",
            "Step 10, Loss 4.614694595336914\n",
            "Step 20, Loss 4.594464302062988\n",
            "Step 30, Loss 4.542603969573975\n",
            "Step 40, Loss 4.345853328704834\n"
          ],
          "name": "stdout"
        },
        {
          "output_type": "stream",
          "text": [
            "100%|██████████| 49/49 [00:07<00:00,  6.90it/s]"
          ],
          "name": "stderr"
        },
        {
          "output_type": "stream",
          "text": [
            "Validation Accuracy: 0.09666989977368251\n",
            "Validation Loss: 5.013100624084473\n",
            "Starting epoch 2/40\n"
          ],
          "name": "stdout"
        },
        {
          "output_type": "stream",
          "text": [
            "\n",
            "/usr/local/lib/python3.6/dist-packages/torch/optim/lr_scheduler.py:351: UserWarning: To get the last learning rate computed by the scheduler, please use `get_last_lr()`.\n",
            "  \"please use `get_last_lr()`.\", UserWarning)\n"
          ],
          "name": "stderr"
        },
        {
          "output_type": "stream",
          "text": [
            "Step 50, Loss 4.040584087371826\n",
            "Step 60, Loss 3.3692097663879395\n",
            "Step 70, Loss 3.32222056388855\n",
            "Step 80, Loss 3.441837787628174\n",
            "Step 90, Loss 3.0029006004333496\n"
          ],
          "name": "stdout"
        },
        {
          "output_type": "stream",
          "text": [
            "100%|██████████| 49/49 [00:06<00:00,  7.36it/s]"
          ],
          "name": "stderr"
        },
        {
          "output_type": "stream",
          "text": [
            "Validation Accuracy: 0.31652117685095377\n",
            "Validation Loss: 4.685200214385986\n",
            "Starting epoch 3/40\n"
          ],
          "name": "stdout"
        },
        {
          "output_type": "stream",
          "text": [
            "\n"
          ],
          "name": "stderr"
        },
        {
          "output_type": "stream",
          "text": [
            "Step 100, Loss 3.148549795150757\n",
            "Step 110, Loss 3.5796780586242676\n",
            "Step 120, Loss 2.7340657711029053\n",
            "Step 130, Loss 3.3399620056152344\n"
          ],
          "name": "stdout"
        },
        {
          "output_type": "stream",
          "text": [
            "\r  0%|          | 0/49 [00:00<?, ?it/s]"
          ],
          "name": "stderr"
        },
        {
          "output_type": "stream",
          "text": [
            "Step 140, Loss 2.978365659713745\n"
          ],
          "name": "stdout"
        },
        {
          "output_type": "stream",
          "text": [
            "100%|██████████| 49/49 [00:06<00:00,  7.27it/s]"
          ],
          "name": "stderr"
        },
        {
          "output_type": "stream",
          "text": [
            "Validation Accuracy: 0.38409311348205627\n",
            "Validation Loss: 4.269169330596924\n",
            "Starting epoch 4/40\n"
          ],
          "name": "stdout"
        },
        {
          "output_type": "stream",
          "text": [
            "\n"
          ],
          "name": "stderr"
        },
        {
          "output_type": "stream",
          "text": [
            "Step 150, Loss 2.7670538425445557\n",
            "Step 160, Loss 2.477644681930542\n",
            "Step 170, Loss 2.573915719985962\n",
            "Step 180, Loss 2.513262987136841\n"
          ],
          "name": "stdout"
        },
        {
          "output_type": "stream",
          "text": [
            "100%|██████████| 49/49 [00:07<00:00,  6.85it/s]"
          ],
          "name": "stderr"
        },
        {
          "output_type": "stream",
          "text": [
            "Validation Accuracy: 0.45651471063692206\n",
            "Validation Loss: 2.4373440742492676\n",
            "Starting epoch 5/40\n"
          ],
          "name": "stdout"
        },
        {
          "output_type": "stream",
          "text": [
            "\n"
          ],
          "name": "stderr"
        },
        {
          "output_type": "stream",
          "text": [
            "Step 190, Loss 2.3347578048706055\n",
            "Step 200, Loss 2.0622432231903076\n",
            "Step 210, Loss 2.1834704875946045\n",
            "Step 220, Loss 1.3608794212341309\n",
            "Step 230, Loss 2.068441152572632\n"
          ],
          "name": "stdout"
        },
        {
          "output_type": "stream",
          "text": [
            "100%|██████████| 49/49 [00:07<00:00,  6.95it/s]"
          ],
          "name": "stderr"
        },
        {
          "output_type": "stream",
          "text": [
            "Validation Accuracy: 0.5948916909149693\n",
            "Validation Loss: 0.5269826054573059\n",
            "Starting epoch 6/40\n"
          ],
          "name": "stdout"
        },
        {
          "output_type": "stream",
          "text": [
            "\n"
          ],
          "name": "stderr"
        },
        {
          "output_type": "stream",
          "text": [
            "Step 240, Loss 1.554938793182373\n",
            "Step 250, Loss 1.6049658060073853\n",
            "Step 260, Loss 1.3709087371826172\n",
            "Step 270, Loss 1.449491024017334\n"
          ],
          "name": "stdout"
        },
        {
          "output_type": "stream",
          "text": [
            "\r  0%|          | 0/49 [00:00<?, ?it/s]"
          ],
          "name": "stderr"
        },
        {
          "output_type": "stream",
          "text": [
            "Step 280, Loss 1.0675907135009766\n"
          ],
          "name": "stdout"
        },
        {
          "output_type": "stream",
          "text": [
            "100%|██████████| 49/49 [00:06<00:00,  7.31it/s]"
          ],
          "name": "stderr"
        },
        {
          "output_type": "stream",
          "text": [
            "Validation Accuracy: 0.6708697057872616\n",
            "Validation Loss: 0.7767989635467529\n",
            "Starting epoch 7/40\n"
          ],
          "name": "stdout"
        },
        {
          "output_type": "stream",
          "text": [
            "\n"
          ],
          "name": "stderr"
        },
        {
          "output_type": "stream",
          "text": [
            "Step 290, Loss 0.7430938482284546\n",
            "Step 300, Loss 1.030249834060669\n",
            "Step 310, Loss 1.2097973823547363\n",
            "Step 320, Loss 1.0264240503311157\n"
          ],
          "name": "stdout"
        },
        {
          "output_type": "stream",
          "text": [
            "100%|██████████| 49/49 [00:06<00:00,  7.12it/s]"
          ],
          "name": "stderr"
        },
        {
          "output_type": "stream",
          "text": [
            "Validation Accuracy: 0.7413514387326221\n",
            "Validation Loss: 1.0248100757598877\n",
            "Starting epoch 8/40\n"
          ],
          "name": "stdout"
        },
        {
          "output_type": "stream",
          "text": [
            "\n"
          ],
          "name": "stderr"
        },
        {
          "output_type": "stream",
          "text": [
            "Step 330, Loss 0.6842122077941895\n",
            "Step 340, Loss 0.661067545413971\n",
            "Step 350, Loss 0.35061874985694885\n",
            "Step 360, Loss 0.9567098617553711\n",
            "Step 370, Loss 0.4705735146999359\n"
          ],
          "name": "stdout"
        },
        {
          "output_type": "stream",
          "text": [
            "100%|██████████| 49/49 [00:06<00:00,  7.13it/s]"
          ],
          "name": "stderr"
        },
        {
          "output_type": "stream",
          "text": [
            "Validation Accuracy: 0.7432913029421274\n",
            "Validation Loss: 0.5442509651184082\n",
            "Starting epoch 9/40\n"
          ],
          "name": "stdout"
        },
        {
          "output_type": "stream",
          "text": [
            "\n"
          ],
          "name": "stderr"
        },
        {
          "output_type": "stream",
          "text": [
            "Step 380, Loss 0.5039842128753662\n",
            "Step 390, Loss 0.5910953879356384\n",
            "Step 400, Loss 0.33784419298171997\n",
            "Step 410, Loss 0.5751286149024963\n",
            "Step 420, Loss 0.4585871398448944\n"
          ],
          "name": "stdout"
        },
        {
          "output_type": "stream",
          "text": [
            "100%|██████████| 49/49 [00:06<00:00,  7.43it/s]"
          ],
          "name": "stderr"
        },
        {
          "output_type": "stream",
          "text": [
            "Validation Accuracy: 0.7707727125767863\n",
            "Validation Loss: 0.3959049880504608\n",
            "Starting epoch 10/40\n"
          ],
          "name": "stdout"
        },
        {
          "output_type": "stream",
          "text": [
            "\n"
          ],
          "name": "stderr"
        },
        {
          "output_type": "stream",
          "text": [
            "Step 430, Loss 0.23778198659420013\n",
            "Step 440, Loss 0.1889268308877945\n",
            "Step 450, Loss 0.19984234869480133\n",
            "Step 460, Loss 0.22085554897785187\n"
          ],
          "name": "stdout"
        },
        {
          "output_type": "stream",
          "text": [
            "100%|██████████| 49/49 [00:06<00:00,  7.44it/s]"
          ],
          "name": "stderr"
        },
        {
          "output_type": "stream",
          "text": [
            "Validation Accuracy: 0.7795021015195603\n",
            "Validation Loss: 0.07707373052835464\n",
            "Starting epoch 11/40\n"
          ],
          "name": "stdout"
        },
        {
          "output_type": "stream",
          "text": [
            "\n"
          ],
          "name": "stderr"
        },
        {
          "output_type": "stream",
          "text": [
            "Step 470, Loss 0.3981018662452698\n",
            "Step 480, Loss 0.14276300370693207\n",
            "Step 490, Loss 0.13821212947368622\n",
            "Step 500, Loss 0.20006218552589417\n",
            "Step 510, Loss 0.17534008622169495\n"
          ],
          "name": "stdout"
        },
        {
          "output_type": "stream",
          "text": [
            "100%|██████████| 49/49 [00:06<00:00,  7.54it/s]"
          ],
          "name": "stderr"
        },
        {
          "output_type": "stream",
          "text": [
            "Validation Accuracy: 0.8060135790494666\n",
            "Validation Loss: 0.24685604870319366\n",
            "Starting epoch 12/40\n"
          ],
          "name": "stdout"
        },
        {
          "output_type": "stream",
          "text": [
            "\n"
          ],
          "name": "stderr"
        },
        {
          "output_type": "stream",
          "text": [
            "Step 520, Loss 0.18265196681022644\n",
            "Step 530, Loss 0.19092652201652527\n",
            "Step 540, Loss 0.1193934828042984\n",
            "Step 550, Loss 0.08803360909223557\n",
            "Step 560, Loss 0.16269049048423767\n"
          ],
          "name": "stdout"
        },
        {
          "output_type": "stream",
          "text": [
            "100%|██████████| 49/49 [00:06<00:00,  7.53it/s]"
          ],
          "name": "stderr"
        },
        {
          "output_type": "stream",
          "text": [
            "Validation Accuracy: 0.7943743937924346\n",
            "Validation Loss: 0.7295634150505066\n",
            "Starting epoch 13/40\n"
          ],
          "name": "stdout"
        },
        {
          "output_type": "stream",
          "text": [
            "\n"
          ],
          "name": "stderr"
        },
        {
          "output_type": "stream",
          "text": [
            "Step 570, Loss 0.23169849812984467\n",
            "Step 580, Loss 0.17673511803150177\n",
            "Step 590, Loss 0.08136670291423798\n",
            "Step 600, Loss 0.14256110787391663\n"
          ],
          "name": "stdout"
        },
        {
          "output_type": "stream",
          "text": [
            "\r  0%|          | 0/49 [00:00<?, ?it/s]"
          ],
          "name": "stderr"
        },
        {
          "output_type": "stream",
          "text": [
            "Step 610, Loss 0.13926662504673004\n"
          ],
          "name": "stdout"
        },
        {
          "output_type": "stream",
          "text": [
            "100%|██████████| 49/49 [00:06<00:00,  7.40it/s]"
          ],
          "name": "stderr"
        },
        {
          "output_type": "stream",
          "text": [
            "Validation Accuracy: 0.8034270934367927\n",
            "Validation Loss: 0.5737301111221313\n",
            "Starting epoch 14/40\n"
          ],
          "name": "stdout"
        },
        {
          "output_type": "stream",
          "text": [
            "\n"
          ],
          "name": "stderr"
        },
        {
          "output_type": "stream",
          "text": [
            "Step 620, Loss 0.20138683915138245\n",
            "Step 630, Loss 0.07899296283721924\n",
            "Step 640, Loss 0.12446284294128418\n",
            "Step 650, Loss 0.1509827822446823\n"
          ],
          "name": "stdout"
        },
        {
          "output_type": "stream",
          "text": [
            "100%|██████████| 49/49 [00:06<00:00,  7.49it/s]"
          ],
          "name": "stderr"
        },
        {
          "output_type": "stream",
          "text": [
            "Validation Accuracy: 0.8082767539605561\n",
            "Validation Loss: 0.2126757800579071\n",
            "Starting epoch 15/40\n"
          ],
          "name": "stdout"
        },
        {
          "output_type": "stream",
          "text": [
            "\n"
          ],
          "name": "stderr"
        },
        {
          "output_type": "stream",
          "text": [
            "Step 660, Loss 0.06866231560707092\n",
            "Step 670, Loss 0.08108361065387726\n",
            "Step 680, Loss 0.05143877863883972\n",
            "Step 690, Loss 0.07913835346698761\n",
            "Step 700, Loss 0.09254242479801178\n"
          ],
          "name": "stdout"
        },
        {
          "output_type": "stream",
          "text": [
            "100%|██████████| 49/49 [00:06<00:00,  7.45it/s]"
          ],
          "name": "stderr"
        },
        {
          "output_type": "stream",
          "text": [
            "Validation Accuracy: 0.812479793081151\n",
            "Validation Loss: 0.23794859647750854\n",
            "Starting epoch 16/40\n"
          ],
          "name": "stdout"
        },
        {
          "output_type": "stream",
          "text": [
            "\n"
          ],
          "name": "stderr"
        },
        {
          "output_type": "stream",
          "text": [
            "Step 710, Loss 0.04105420410633087\n",
            "Step 720, Loss 0.10055507719516754\n",
            "Step 730, Loss 0.08346475660800934\n",
            "Step 740, Loss 0.0550864040851593\n"
          ],
          "name": "stdout"
        },
        {
          "output_type": "stream",
          "text": [
            "\r  0%|          | 0/49 [00:00<?, ?it/s]"
          ],
          "name": "stderr"
        },
        {
          "output_type": "stream",
          "text": [
            "Step 750, Loss 0.0261395126581192\n"
          ],
          "name": "stdout"
        },
        {
          "output_type": "stream",
          "text": [
            "100%|██████████| 49/49 [00:06<00:00,  7.36it/s]"
          ],
          "name": "stderr"
        },
        {
          "output_type": "stream",
          "text": [
            "Validation Accuracy: 0.8115098609763983\n",
            "Validation Loss: 0.2537534832954407\n",
            "Starting epoch 17/40\n"
          ],
          "name": "stdout"
        },
        {
          "output_type": "stream",
          "text": [
            "\n"
          ],
          "name": "stderr"
        },
        {
          "output_type": "stream",
          "text": [
            "Step 760, Loss 0.03982017934322357\n",
            "Step 770, Loss 0.043498694896698\n",
            "Step 780, Loss 0.04303984344005585\n",
            "Step 790, Loss 0.04952821135520935\n"
          ],
          "name": "stdout"
        },
        {
          "output_type": "stream",
          "text": [
            "100%|██████████| 49/49 [00:06<00:00,  7.45it/s]"
          ],
          "name": "stderr"
        },
        {
          "output_type": "stream",
          "text": [
            "Validation Accuracy: 0.8147429679922406\n",
            "Validation Loss: 0.36939889192581177\n",
            "Starting epoch 18/40\n"
          ],
          "name": "stdout"
        },
        {
          "output_type": "stream",
          "text": [
            "\n"
          ],
          "name": "stderr"
        },
        {
          "output_type": "stream",
          "text": [
            "Step 800, Loss 0.06952401995658875\n",
            "Step 810, Loss 0.09168744087219238\n",
            "Step 820, Loss 0.047989606857299805\n",
            "Step 830, Loss 0.09825129806995392\n",
            "Step 840, Loss 0.08672970533370972\n"
          ],
          "name": "stdout"
        },
        {
          "output_type": "stream",
          "text": [
            "100%|██████████| 49/49 [00:06<00:00,  7.55it/s]"
          ],
          "name": "stderr"
        },
        {
          "output_type": "stream",
          "text": [
            "Validation Accuracy: 0.8215324927255092\n",
            "Validation Loss: 0.3657744228839874\n",
            "Starting epoch 19/40\n"
          ],
          "name": "stdout"
        },
        {
          "output_type": "stream",
          "text": [
            "\n"
          ],
          "name": "stderr"
        },
        {
          "output_type": "stream",
          "text": [
            "Step 850, Loss 0.08373691141605377\n",
            "Step 860, Loss 0.09383970499038696\n",
            "Step 870, Loss 0.07124102115631104\n",
            "Step 880, Loss 0.0985352098941803\n"
          ],
          "name": "stdout"
        },
        {
          "output_type": "stream",
          "text": [
            "\r  0%|          | 0/49 [00:00<?, ?it/s]"
          ],
          "name": "stderr"
        },
        {
          "output_type": "stream",
          "text": [
            "Step 890, Loss 0.02223639190196991\n"
          ],
          "name": "stdout"
        },
        {
          "output_type": "stream",
          "text": [
            "100%|██████████| 49/49 [00:06<00:00,  7.41it/s]"
          ],
          "name": "stderr"
        },
        {
          "output_type": "stream",
          "text": [
            "Validation Accuracy: 0.821209182023925\n",
            "Validation Loss: 0.4782649874687195\n",
            "Starting epoch 20/40\n"
          ],
          "name": "stdout"
        },
        {
          "output_type": "stream",
          "text": [
            "\n"
          ],
          "name": "stderr"
        },
        {
          "output_type": "stream",
          "text": [
            "Step 900, Loss 0.023052603006362915\n",
            "Step 910, Loss 0.03379856050014496\n",
            "Step 920, Loss 0.09491384029388428\n",
            "Step 930, Loss 0.08313459157943726\n"
          ],
          "name": "stdout"
        },
        {
          "output_type": "stream",
          "text": [
            "100%|██████████| 49/49 [00:06<00:00,  7.35it/s]"
          ],
          "name": "stderr"
        },
        {
          "output_type": "stream",
          "text": [
            "Validation Accuracy: 0.8166828322017459\n",
            "Validation Loss: 0.3532921075820923\n",
            "Starting epoch 21/40\n"
          ],
          "name": "stdout"
        },
        {
          "output_type": "stream",
          "text": [
            "\n"
          ],
          "name": "stderr"
        },
        {
          "output_type": "stream",
          "text": [
            "Step 940, Loss 0.025139540433883667\n",
            "Step 950, Loss 0.04664584994316101\n",
            "Step 960, Loss 0.06901317834854126\n",
            "Step 970, Loss 0.0851384848356247\n",
            "Step 980, Loss 0.07402458786964417\n"
          ],
          "name": "stdout"
        },
        {
          "output_type": "stream",
          "text": [
            "100%|██████████| 49/49 [00:06<00:00,  7.41it/s]"
          ],
          "name": "stderr"
        },
        {
          "output_type": "stream",
          "text": [
            "Validation Accuracy: 0.8205625606207565\n",
            "Validation Loss: 0.51640784740448\n",
            "Starting epoch 22/40\n"
          ],
          "name": "stdout"
        },
        {
          "output_type": "stream",
          "text": [
            "\n"
          ],
          "name": "stderr"
        },
        {
          "output_type": "stream",
          "text": [
            "Step 990, Loss 0.07127337157726288\n",
            "Step 1000, Loss 0.025959134101867676\n",
            "Step 1010, Loss 0.04438239336013794\n",
            "Step 1020, Loss 0.031200438737869263\n",
            "Step 1030, Loss 0.03083258867263794\n"
          ],
          "name": "stdout"
        },
        {
          "output_type": "stream",
          "text": [
            "100%|██████████| 49/49 [00:06<00:00,  7.16it/s]"
          ],
          "name": "stderr"
        },
        {
          "output_type": "stream",
          "text": [
            "Validation Accuracy: 0.8192693178144197\n",
            "Validation Loss: 0.6192744970321655\n",
            "Starting epoch 23/40\n"
          ],
          "name": "stdout"
        },
        {
          "output_type": "stream",
          "text": [
            "\n"
          ],
          "name": "stderr"
        },
        {
          "output_type": "stream",
          "text": [
            "Step 1040, Loss 0.08658695220947266\n",
            "Step 1050, Loss 0.03194291889667511\n",
            "Step 1060, Loss 0.01810668408870697\n",
            "Step 1070, Loss 0.029376238584518433\n"
          ],
          "name": "stdout"
        },
        {
          "output_type": "stream",
          "text": [
            "\r  0%|          | 0/49 [00:00<?, ?it/s]"
          ],
          "name": "stderr"
        },
        {
          "output_type": "stream",
          "text": [
            "Step 1080, Loss 0.04533772170543671\n"
          ],
          "name": "stdout"
        },
        {
          "output_type": "stream",
          "text": [
            "100%|██████████| 49/49 [00:06<00:00,  7.31it/s]"
          ],
          "name": "stderr"
        },
        {
          "output_type": "stream",
          "text": [
            "Validation Accuracy: 0.8244422890397672\n",
            "Validation Loss: 0.3735288381576538\n",
            "Starting epoch 24/40\n"
          ],
          "name": "stdout"
        },
        {
          "output_type": "stream",
          "text": [
            "\n"
          ],
          "name": "stderr"
        },
        {
          "output_type": "stream",
          "text": [
            "Step 1090, Loss 0.06699405610561371\n",
            "Step 1100, Loss 0.02285820245742798\n",
            "Step 1110, Loss 0.10511790215969086\n",
            "Step 1120, Loss 0.026701629161834717\n"
          ],
          "name": "stdout"
        },
        {
          "output_type": "stream",
          "text": [
            "100%|██████████| 49/49 [00:06<00:00,  7.07it/s]"
          ],
          "name": "stderr"
        },
        {
          "output_type": "stream",
          "text": [
            "Validation Accuracy: 0.8283220174587779\n",
            "Validation Loss: 0.45139414072036743\n",
            "Starting epoch 25/40\n"
          ],
          "name": "stdout"
        },
        {
          "output_type": "stream",
          "text": [
            "\n"
          ],
          "name": "stderr"
        },
        {
          "output_type": "stream",
          "text": [
            "Step 1130, Loss 0.018631204962730408\n",
            "Step 1140, Loss 0.08219815790653229\n",
            "Step 1150, Loss 0.022073835134506226\n",
            "Step 1160, Loss 0.06338199973106384\n",
            "Step 1170, Loss 0.03722084313631058\n"
          ],
          "name": "stdout"
        },
        {
          "output_type": "stream",
          "text": [
            "100%|██████████| 49/49 [00:06<00:00,  7.23it/s]"
          ],
          "name": "stderr"
        },
        {
          "output_type": "stream",
          "text": [
            "Validation Accuracy: 0.8292919495635306\n",
            "Validation Loss: 0.4974646270275116\n",
            "Starting epoch 26/40\n"
          ],
          "name": "stdout"
        },
        {
          "output_type": "stream",
          "text": [
            "\n"
          ],
          "name": "stderr"
        },
        {
          "output_type": "stream",
          "text": [
            "Step 1180, Loss 0.04512853920459747\n",
            "Step 1190, Loss 0.0524408221244812\n",
            "Step 1200, Loss 0.015025123953819275\n",
            "Step 1210, Loss 0.038998037576675415\n",
            "Step 1220, Loss 0.020481973886489868\n"
          ],
          "name": "stdout"
        },
        {
          "output_type": "stream",
          "text": [
            "100%|██████████| 49/49 [00:06<00:00,  7.33it/s]"
          ],
          "name": "stderr"
        },
        {
          "output_type": "stream",
          "text": [
            "Validation Accuracy: 0.8231490462334303\n",
            "Validation Loss: 0.29355213046073914\n",
            "Starting epoch 27/40\n"
          ],
          "name": "stdout"
        },
        {
          "output_type": "stream",
          "text": [
            "\n"
          ],
          "name": "stderr"
        },
        {
          "output_type": "stream",
          "text": [
            "Step 1230, Loss 0.10926805436611176\n",
            "Step 1240, Loss 0.03897362947463989\n",
            "Step 1250, Loss 0.017828285694122314\n",
            "Step 1260, Loss 0.03315277397632599\n"
          ],
          "name": "stdout"
        },
        {
          "output_type": "stream",
          "text": [
            "100%|██████████| 49/49 [00:06<00:00,  7.61it/s]"
          ],
          "name": "stderr"
        },
        {
          "output_type": "stream",
          "text": [
            "Validation Accuracy: 0.8254122211445198\n",
            "Validation Loss: 0.4144192337989807\n",
            "Starting epoch 28/40\n"
          ],
          "name": "stdout"
        },
        {
          "output_type": "stream",
          "text": [
            "\n"
          ],
          "name": "stderr"
        },
        {
          "output_type": "stream",
          "text": [
            "Step 1270, Loss 0.07105050981044769\n",
            "Step 1280, Loss 0.04908311367034912\n",
            "Step 1290, Loss 0.015588849782943726\n",
            "Step 1300, Loss 0.03108750283718109\n",
            "Step 1310, Loss 0.029667824506759644\n"
          ],
          "name": "stdout"
        },
        {
          "output_type": "stream",
          "text": [
            "100%|██████████| 49/49 [00:06<00:00,  7.56it/s]"
          ],
          "name": "stderr"
        },
        {
          "output_type": "stream",
          "text": [
            "Validation Accuracy: 0.8309085030714517\n",
            "Validation Loss: 0.5609999895095825\n",
            "Starting epoch 29/40\n"
          ],
          "name": "stdout"
        },
        {
          "output_type": "stream",
          "text": [
            "\n"
          ],
          "name": "stderr"
        },
        {
          "output_type": "stream",
          "text": [
            "Step 1320, Loss 0.026351705193519592\n",
            "Step 1330, Loss 0.03714945912361145\n",
            "Step 1340, Loss 0.05377756059169769\n",
            "Step 1350, Loss 0.030481919646263123\n"
          ],
          "name": "stdout"
        },
        {
          "output_type": "stream",
          "text": [
            "\r  0%|          | 0/49 [00:00<?, ?it/s]"
          ],
          "name": "stderr"
        },
        {
          "output_type": "stream",
          "text": [
            "Step 1360, Loss 0.06819823384284973\n"
          ],
          "name": "stdout"
        },
        {
          "output_type": "stream",
          "text": [
            "100%|██████████| 49/49 [00:06<00:00,  7.40it/s]"
          ],
          "name": "stderr"
        },
        {
          "output_type": "stream",
          "text": [
            "Validation Accuracy: 0.8276753960556095\n",
            "Validation Loss: 0.3117125928401947\n",
            "Starting epoch 30/40\n"
          ],
          "name": "stdout"
        },
        {
          "output_type": "stream",
          "text": [
            "\n"
          ],
          "name": "stderr"
        },
        {
          "output_type": "stream",
          "text": [
            "Step 1370, Loss 0.026390090584754944\n",
            "Step 1380, Loss 0.026737257838249207\n",
            "Step 1390, Loss 0.012246310710906982\n",
            "Step 1400, Loss 0.07159797847270966\n"
          ],
          "name": "stdout"
        },
        {
          "output_type": "stream",
          "text": [
            "100%|██████████| 49/49 [00:06<00:00,  7.58it/s]"
          ],
          "name": "stderr"
        },
        {
          "output_type": "stream",
          "text": [
            "Validation Accuracy: 0.8257355318461042\n",
            "Validation Loss: 0.4150238633155823\n",
            "Starting epoch 31/40\n"
          ],
          "name": "stdout"
        },
        {
          "output_type": "stream",
          "text": [
            "\n"
          ],
          "name": "stderr"
        },
        {
          "output_type": "stream",
          "text": [
            "Step 1410, Loss 0.02143619954586029\n",
            "Step 1420, Loss 0.0211859792470932\n",
            "Step 1430, Loss 0.09570391476154327\n",
            "Step 1440, Loss 0.08427508175373077\n",
            "Step 1450, Loss 0.03851036727428436\n"
          ],
          "name": "stdout"
        },
        {
          "output_type": "stream",
          "text": [
            "100%|██████████| 49/49 [00:06<00:00,  7.60it/s]"
          ],
          "name": "stderr"
        },
        {
          "output_type": "stream",
          "text": [
            "Validation Accuracy: 0.8279987067571937\n",
            "Validation Loss: 0.2691223919391632\n",
            "Starting epoch 32/40\n"
          ],
          "name": "stdout"
        },
        {
          "output_type": "stream",
          "text": [
            "\n"
          ],
          "name": "stderr"
        },
        {
          "output_type": "stream",
          "text": [
            "Step 1460, Loss 0.03015497326850891\n",
            "Step 1470, Loss 0.006970033049583435\n",
            "Step 1480, Loss 0.15067733824253082\n",
            "Step 1490, Loss 0.017800122499465942\n",
            "Step 1500, Loss 0.018638402223587036\n"
          ],
          "name": "stdout"
        },
        {
          "output_type": "stream",
          "text": [
            "100%|██████████| 49/49 [00:06<00:00,  7.24it/s]"
          ],
          "name": "stderr"
        },
        {
          "output_type": "stream",
          "text": [
            "Validation Accuracy: 0.8244422890397672\n",
            "Validation Loss: 0.5920277833938599\n",
            "Starting epoch 33/40\n"
          ],
          "name": "stdout"
        },
        {
          "output_type": "stream",
          "text": [
            "\n"
          ],
          "name": "stderr"
        },
        {
          "output_type": "stream",
          "text": [
            "Step 1510, Loss 0.02205619215965271\n",
            "Step 1520, Loss 0.006713107228279114\n",
            "Step 1530, Loss 0.03485521674156189\n",
            "Step 1540, Loss 0.027684271335601807\n"
          ],
          "name": "stdout"
        },
        {
          "output_type": "stream",
          "text": [
            "\r  0%|          | 0/49 [00:00<?, ?it/s]"
          ],
          "name": "stderr"
        },
        {
          "output_type": "stream",
          "text": [
            "Step 1550, Loss 0.05912423133850098\n"
          ],
          "name": "stdout"
        },
        {
          "output_type": "stream",
          "text": [
            "100%|██████████| 49/49 [00:06<00:00,  7.22it/s]"
          ],
          "name": "stderr"
        },
        {
          "output_type": "stream",
          "text": [
            "Validation Accuracy: 0.8247655997413514\n",
            "Validation Loss: 0.5824443101882935\n",
            "Starting epoch 34/40\n"
          ],
          "name": "stdout"
        },
        {
          "output_type": "stream",
          "text": [
            "\n"
          ],
          "name": "stderr"
        },
        {
          "output_type": "stream",
          "text": [
            "Step 1560, Loss 0.018409833312034607\n",
            "Step 1570, Loss 0.09858700633049011\n",
            "Step 1580, Loss 0.05196294188499451\n",
            "Step 1590, Loss 0.03373946249485016\n"
          ],
          "name": "stdout"
        },
        {
          "output_type": "stream",
          "text": [
            "100%|██████████| 49/49 [00:06<00:00,  7.25it/s]"
          ],
          "name": "stderr"
        },
        {
          "output_type": "stream",
          "text": [
            "Validation Accuracy: 0.8334949886841254\n",
            "Validation Loss: 0.45429810881614685\n",
            "Starting epoch 35/40\n"
          ],
          "name": "stdout"
        },
        {
          "output_type": "stream",
          "text": [
            "\n"
          ],
          "name": "stderr"
        },
        {
          "output_type": "stream",
          "text": [
            "Step 1600, Loss 0.011768773198127747\n",
            "Step 1610, Loss 0.018408536911010742\n",
            "Step 1620, Loss 0.016087010502815247\n",
            "Step 1630, Loss 0.031198561191558838\n",
            "Step 1640, Loss 0.08356095850467682\n"
          ],
          "name": "stdout"
        },
        {
          "output_type": "stream",
          "text": [
            "100%|██████████| 49/49 [00:06<00:00,  7.36it/s]"
          ],
          "name": "stderr"
        },
        {
          "output_type": "stream",
          "text": [
            "Validation Accuracy: 0.8383446492078888\n",
            "Validation Loss: 0.3833181858062744\n",
            "Starting epoch 36/40\n"
          ],
          "name": "stdout"
        },
        {
          "output_type": "stream",
          "text": [
            "\n"
          ],
          "name": "stderr"
        },
        {
          "output_type": "stream",
          "text": [
            "Step 1650, Loss 0.016137734055519104\n",
            "Step 1660, Loss 0.013914048671722412\n",
            "Step 1670, Loss 0.10104481875896454\n",
            "Step 1680, Loss 0.07105083763599396\n"
          ],
          "name": "stdout"
        },
        {
          "output_type": "stream",
          "text": [
            "\r  0%|          | 0/49 [00:00<?, ?it/s]"
          ],
          "name": "stderr"
        },
        {
          "output_type": "stream",
          "text": [
            "Step 1690, Loss 0.022460296750068665\n"
          ],
          "name": "stdout"
        },
        {
          "output_type": "stream",
          "text": [
            "100%|██████████| 49/49 [00:06<00:00,  7.28it/s]"
          ],
          "name": "stderr"
        },
        {
          "output_type": "stream",
          "text": [
            "Validation Accuracy: 0.8351115421920465\n",
            "Validation Loss: 0.3264002501964569\n",
            "Starting epoch 37/40\n"
          ],
          "name": "stdout"
        },
        {
          "output_type": "stream",
          "text": [
            "\n"
          ],
          "name": "stderr"
        },
        {
          "output_type": "stream",
          "text": [
            "Step 1700, Loss 0.031492188572883606\n",
            "Step 1710, Loss 0.08837853372097015\n",
            "Step 1720, Loss 0.0445544570684433\n",
            "Step 1730, Loss 0.057647109031677246\n"
          ],
          "name": "stdout"
        },
        {
          "output_type": "stream",
          "text": [
            "100%|██████████| 49/49 [00:06<00:00,  7.21it/s]"
          ],
          "name": "stderr"
        },
        {
          "output_type": "stream",
          "text": [
            "Validation Accuracy: 0.8312318137730359\n",
            "Validation Loss: 0.3614542782306671\n",
            "Starting epoch 38/40\n"
          ],
          "name": "stdout"
        },
        {
          "output_type": "stream",
          "text": [
            "\n"
          ],
          "name": "stderr"
        },
        {
          "output_type": "stream",
          "text": [
            "Step 1740, Loss 0.048710644245147705\n",
            "Step 1750, Loss 0.034794434905052185\n",
            "Step 1760, Loss 0.0631900280714035\n",
            "Step 1770, Loss 0.03818631172180176\n",
            "Step 1780, Loss 0.012444332242012024\n"
          ],
          "name": "stdout"
        },
        {
          "output_type": "stream",
          "text": [
            "100%|██████████| 49/49 [00:06<00:00,  7.26it/s]"
          ],
          "name": "stderr"
        },
        {
          "output_type": "stream",
          "text": [
            "Validation Accuracy: 0.8347882314904623\n",
            "Validation Loss: 0.3617298901081085\n",
            "Starting epoch 39/40\n"
          ],
          "name": "stdout"
        },
        {
          "output_type": "stream",
          "text": [
            "\n"
          ],
          "name": "stderr"
        },
        {
          "output_type": "stream",
          "text": [
            "Step 1790, Loss 0.0630161464214325\n",
            "Step 1800, Loss 0.01339586079120636\n",
            "Step 1810, Loss 0.012987479567527771\n",
            "Step 1820, Loss 0.0495469868183136\n",
            "Step 1830, Loss 0.031797587871551514\n"
          ],
          "name": "stdout"
        },
        {
          "output_type": "stream",
          "text": [
            "100%|██████████| 49/49 [00:06<00:00,  7.24it/s]"
          ],
          "name": "stderr"
        },
        {
          "output_type": "stream",
          "text": [
            "Validation Accuracy: 0.8312318137730359\n",
            "Validation Loss: 0.2486364245414734\n",
            "Starting epoch 40/40\n"
          ],
          "name": "stdout"
        },
        {
          "output_type": "stream",
          "text": [
            "\n"
          ],
          "name": "stderr"
        },
        {
          "output_type": "stream",
          "text": [
            "Step 1840, Loss 0.018927201628684998\n",
            "Step 1850, Loss 0.0342077761888504\n",
            "Step 1860, Loss 0.01859327405691147\n",
            "Step 1870, Loss 0.0425456166267395\n"
          ],
          "name": "stdout"
        },
        {
          "output_type": "stream",
          "text": [
            "100%|██████████| 49/49 [00:06<00:00,  7.64it/s]"
          ],
          "name": "stderr"
        },
        {
          "output_type": "stream",
          "text": [
            "Validation Accuracy: 0.8296152602651148\n",
            "Validation Loss: 0.4260936975479126\n"
          ],
          "name": "stdout"
        },
        {
          "output_type": "stream",
          "text": [
            "\n"
          ],
          "name": "stderr"
        }
      ]
    },
    {
      "cell_type": "markdown",
      "metadata": {
        "id": "5OSS1sxKGJ4g",
        "colab_type": "text"
      },
      "source": [
        "## Plot and evaluate"
      ]
    },
    {
      "cell_type": "code",
      "metadata": {
        "id": "lqqrkNhUWZLd",
        "colab_type": "code",
        "outputId": "e1f406bc-316e-4927-fb94-bda8bbc3e9ff",
        "colab": {
          "base_uri": "https://localhost:8080/",
          "height": 531
        }
      },
      "source": [
        "from scipy.interpolate import interp1d\n",
        "import matplotlib.pyplot as plt\n",
        "import numpy as np\n",
        "\n",
        "lrs = []\n",
        "val_accs = []\n",
        "val_losses = []\n",
        "train_losses = []\n",
        "\n",
        "for el in pars:\n",
        "  lrs.extend(el[0])\n",
        "  val_accs.append(el[1])\n",
        "  val_losses.append(el[2])\n",
        "  train_losses.append(el[3])\n",
        "f_accs_1 = interp1d(lrs, val_accs)\n",
        "f_accs_2 = interp1d(lrs, val_accs, kind='previous')\n",
        "\n",
        "f_losses_1 = interp1d(lrs, val_losses)\n",
        "f_losses_2 = interp1d(lrs, val_losses, kind='previous')\n",
        "\n",
        "xnew = np.linspace(min(lrs), max(lrs), num=200, endpoint=True)\n",
        "\n",
        "plt.plot(lrs, val_accs, '.', xnew, f_accs_1(xnew), '-', xnew, f_accs_2(xnew), '--')\n",
        "plt.legend(['accuracy', 'accuracy_linear', 'previous_interp'], loc='best')\n",
        "plt.show()\n",
        "plt.plot(lrs, val_losses, '.', xnew, f_losses_1(xnew), '-', xnew, f_losses_2(xnew), '--')\n",
        "plt.legend(['losses', 'losses_linear', 'previous_interp'], loc='best')\n",
        "\n"
      ],
      "execution_count": 0,
      "outputs": [
        {
          "output_type": "display_data",
          "data": {
            "image/png": "[encoded data removed]",
            "text/plain": [
              "<Figure size 432x288 with 1 Axes>"
            ]
          },
          "metadata": {
            "tags": [],
            "needs_background": "light"
          }
        },
        {
          "output_type": "execute_result",
          "data": {
            "text/plain": [
              "<matplotlib.legend.Legend at 0x7f7cbcd3f048>"
            ]
          },
          "metadata": {
            "tags": []
          },
          "execution_count": 21
        },
        {
          "output_type": "display_data",
          "data": {
            "image/png": "[encoded data removed]",
            "text/plain": [
              "<Figure size 432x288 with 1 Axes>"
            ]
          },
          "metadata": {
            "tags": [],
            "needs_background": "light"
          }
        }
      ]
    },
    {
      "cell_type": "code",
      "metadata": {
        "id": "BVo0O1H-DCJx",
        "colab_type": "code",
        "outputId": "0a0ba702-8bac-47a8-8a5e-76e8f371e00f",
        "colab": {
          "base_uri": "https://localhost:8080/",
          "height": 821
        }
      },
      "source": [
        "epoch +=1\n",
        "x_epochs = np.linspace(1,epoch,epoch)\n",
        "\n",
        "plt.plot(x_epochs, val_losses, '-', color='red')\n",
        "plt.xlabel(\"Epoch\")\n",
        "plt.legend(['ValLoss'])\n",
        "plt.plot(x_epochs, train_losses, '-', color='blue')\n",
        "plt.xlabel(\"Epoch\")\n",
        "plt.legend(['TrainLoss'])\n",
        "\n",
        "plt.show()\n",
        "\n",
        "plt.plot(x_epochs, val_accs, '-')\n",
        "plt.xlabel(\"Epoch\")\n",
        "plt.legend(['accuracy_linear'])\n",
        "plt.show()\n",
        "plt.plot(x_epochs, lrs, '-')\n",
        "plt.xlabel(\"Epoch\")\n",
        "plt.legend(['learning rate'])\n"
      ],
      "execution_count": 0,
      "outputs": [
        {
          "output_type": "display_data",
          "data": {
            "image/png": "[encoded data removed]",
            "text/plain": [
              "<Figure size 432x288 with 1 Axes>"
            ]
          },
          "metadata": {
            "tags": [],
            "needs_background": "light"
          }
        },
        {
          "output_type": "display_data",
          "data": {
            "image/png": "[encoded data removed]",
            "text/plain": [
              "<Figure size 432x288 with 1 Axes>"
            ]
          },
          "metadata": {
            "tags": [],
            "needs_background": "light"
          }
        },
        {
          "output_type": "execute_result",
          "data": {
            "text/plain": [
              "<matplotlib.legend.Legend at 0x7f7cbcdb3c18>"
            ]
          },
          "metadata": {
            "tags": []
          },
          "execution_count": 22
        },
        {
          "output_type": "display_data",
          "data": {
            "image/png": "[encoded data removed]",
            "text/plain": [
              "<Figure size 432x288 with 1 Axes>"
            ]
          },
          "metadata": {
            "tags": [],
            "needs_background": "light"
          }
        }
      ]
    },
    {
      "cell_type": "markdown",
      "metadata": {
        "id": "UsHFI-GAJd69",
        "colab_type": "text"
      },
      "source": [
        "# **Validation**"
      ]
    },
    {
      "cell_type": "code",
      "metadata": {
        "id": "EO3HV5pqJg1o",
        "colab_type": "code",
        "outputId": "c70dce81-2bb1-449c-c51c-97500e3cf0f1",
        "colab": {
          "base_uri": "https://localhost:8080/",
          "height": 52
        }
      },
      "source": [
        "alexNet = best_model\n",
        "alexNet = alexNet.to(DEVICE) # this will bring the network to GPU if DEVICE is cuda\n",
        "alexNet.train(False) # Set Network to evaluation mode\n",
        "\n",
        "running_corrects = 0\n",
        "for images, labels in tqdm(val_dataloader):\n",
        "  images = images.to(DEVICE)\n",
        "  labels = labels.to(DEVICE)\n",
        "\n",
        "  # Forward Pass\n",
        "  outputs = alexNet(images)\n",
        "\n",
        "  # Get predictions\n",
        "  _, preds = torch.max(outputs.data, 1)\n",
        "\n",
        "  # Update Corrects\n",
        "  running_corrects += torch.sum(preds == labels.data).data.item()\n",
        "\n",
        "# Calculate Accuracy\n",
        "accuracy = running_corrects / float(len(val_dataset))\n",
        "\n",
        "print('Validation Accuracy: {}'.format(accuracy))"
      ],
      "execution_count": 0,
      "outputs": [
        {
          "output_type": "stream",
          "text": [
            "100%|██████████| 49/49 [00:05<00:00,  8.53it/s]"
          ],
          "name": "stderr"
        },
        {
          "output_type": "stream",
          "text": [
            "Validation Accuracy: 0.8322017458777885\n"
          ],
          "name": "stdout"
        },
        {
          "output_type": "stream",
          "text": [
            "\n"
          ],
          "name": "stderr"
        }
      ]
    },
    {
      "cell_type": "markdown",
      "metadata": {
        "id": "jxekmR745ySe",
        "colab_type": "text"
      },
      "source": [
        "# **Test**"
      ]
    },
    {
      "cell_type": "code",
      "metadata": {
        "id": "fSHcUqLB5yWO",
        "colab_type": "code",
        "outputId": "b9c41600-92e2-4dd6-d716-cbf1dbd46c60",
        "colab": {
          "base_uri": "https://localhost:8080/",
          "height": 52
        }
      },
      "source": [
        "alexNet = alexNet.to(DEVICE) # this will bring the network to GPU if DEVICE is cuda\n",
        "alexNet.train(False) # Set Network to evaluation mode\n",
        "\n",
        "running_corrects = 0\n",
        "for images, labels in tqdm(test_dataloader):\n",
        "  images = images.to(DEVICE)\n",
        "  labels = labels.to(DEVICE)\n",
        "\n",
        "  # Forward Pass\n",
        "  outputs = alexNet(images)\n",
        "\n",
        "  # Get predictions\n",
        "  _, preds = torch.max(outputs.data, 1)\n",
        "\n",
        "  # Update Corrects\n",
        "  running_corrects += torch.sum(preds == labels.data).data.item()\n",
        "\n",
        "# Calculate Accuracy\n",
        "accuracy = running_corrects / float(len(test_dataset))\n",
        "\n",
        "print('Test Accuracy: {}'.format(accuracy))"
      ],
      "execution_count": 0,
      "outputs": [
        {
          "output_type": "stream",
          "text": [
            "100%|██████████| 46/46 [00:09<00:00,  4.71it/s]"
          ],
          "name": "stderr"
        },
        {
          "output_type": "stream",
          "text": [
            "Test Accuracy: 0.7227791220186658\n"
          ],
          "name": "stdout"
        },
        {
          "output_type": "stream",
          "text": [
            "\n"
          ],
          "name": "stderr"
        }
      ]
    }
  ]
}